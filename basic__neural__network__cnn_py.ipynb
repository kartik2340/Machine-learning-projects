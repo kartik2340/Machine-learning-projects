{
  "nbformat": 4,
  "nbformat_minor": 0,
  "metadata": {
    "colab": {
      "provenance": [],
      "authorship_tag": "ABX9TyMD3pc9NETNyHysqqdTqOsX",
      "include_colab_link": true
    },
    "kernelspec": {
      "name": "python3",
      "display_name": "Python 3"
    },
    "language_info": {
      "name": "python"
    }
  },
  "cells": [
    {
      "cell_type": "markdown",
      "metadata": {
        "id": "view-in-github",
        "colab_type": "text"
      },
      "source": [
        "<a href=\"https://colab.research.google.com/github/kartik2340/Machine-learning-projects/blob/main/basic__neural__network__cnn_py.ipynb\" target=\"_parent\"><img src=\"https://colab.research.google.com/assets/colab-badge.svg\" alt=\"Open In Colab\"/></a>"
      ]
    },
    {
      "cell_type": "code",
      "execution_count": 1,
      "metadata": {
        "id": "oLAsLY-h_uF2"
      },
      "outputs": [],
      "source": [
        "import sys\n",
        "import tensorflow as tf"
      ]
    },
    {
      "cell_type": "code",
      "source": [
        "#using mnist handwriten dataset\n",
        "mnist = tf.keras.datasets.mnist"
      ],
      "metadata": {
        "id": "ZtSRSUUJARtn"
      },
      "execution_count": 2,
      "outputs": []
    },
    {
      "cell_type": "code",
      "source": [
        "#preparing data for training \n",
        "(x_train, y_train), (x_test, y_test) = mnist.load_data()\n",
        "x_train, x_test = x_train / 255.0, x_test / 255.0 # color ranges from 0 to 255 \n",
        "y_train = tf.keras.utils.to_categorical(y_train)\n",
        "y_test = tf.keras.utils.to_categorical(y_test)\n",
        "x_train = x_train.reshape(\n",
        "    x_train.shape[0], x_train.shape[1], x_train.shape[2], 1\n",
        ")\n",
        "x_test = x_test.reshape(\n",
        "    x_test.shape[0], x_test.shape[1], x_test.shape[2], 1\n",
        ")\n"
      ],
      "metadata": {
        "colab": {
          "base_uri": "https://localhost:8080/"
        },
        "id": "QyBB2QsYAcNp",
        "outputId": "5da23366-5f41-466f-f2d9-659b8f36b7ef"
      },
      "execution_count": 3,
      "outputs": [
        {
          "output_type": "stream",
          "name": "stdout",
          "text": [
            "Downloading data from https://storage.googleapis.com/tensorflow/tf-keras-datasets/mnist.npz\n",
            "11490434/11490434 [==============================] - 0s 0us/step\n"
          ]
        }
      ]
    },
    {
      "cell_type": "code",
      "source": [
        "from keras import activations\n",
        "# creating convolution neural network \n",
        "model = tf.keras.models.Sequential([\n",
        "    # convulation layer . learn 32 filters using a 3*3 kernal, first layer \n",
        "    tf.keras.layers.Conv2D(\n",
        "        32, (3, 3), activation=\"relu\", input_shape=(28, 28, 1)#32 different filter each kernal is 3*3 filters , as getting 28 * 28 pixel and only 1 value of color \n",
        "    ),\n",
        "\n",
        "    #max-pooling layer, using 2*2 pool size\n",
        "    tf.keras.layers.MaxPooling2D(pool_size=(2, 2)),# meaning we are looking 2*2 matrix and getting out max value from it , help to reduce the size of input \n",
        "   \n",
        "   \n",
        "    #flatten units \n",
        "    tf.keras.layers.Flatten(), #flatten in single layer \n",
        "    \n",
        "    # adding a hidden layer with dropout\n",
        "    tf.keras.layers.Dense(128, activation=\"relu\"),#adding 128 hidden layer in it \n",
        "    tf.keras.layers.Dropout(0.5),# to prevent over fitting adding  dropout in telserflow \n",
        "\n",
        "    #add an output layer with output unit for all 10 digits \n",
        "    tf.keras.layers.Dense(10, activation=\"softmax\")# out put layer softmax= take the output and turn it into probability function  \n",
        "\n",
        "])\n"
      ],
      "metadata": {
        "id": "ueXFqfO3C_Qy"
      },
      "execution_count": 9,
      "outputs": []
    },
    {
      "cell_type": "code",
      "source": [
        "# train neural network \n",
        "model.compile(\n",
        "    optimizer=\"adam\",\n",
        "    loss=\"categorical_crossentropy\",\n",
        "    metrics=[\"accuracy\"]\n",
        ")\n",
        "model.fit(x_train, y_train, epochs=10)\n",
        "# evaluate neural network perfo\n",
        "model.evaluate(x_test, y_test, verbose=2)\n",
        "\n",
        "# save model file \n",
        "\n",
        "if len(sys.argv) == 2:\n",
        "  filename = sys.argv[1]\n",
        "  model.save(filename)\n",
        "  print(f\"maodel saved to {filename }\")\n",
        "\n",
        "\n"
      ],
      "metadata": {
        "colab": {
          "base_uri": "https://localhost:8080/"
        },
        "id": "q8m4Jy3eIVeM",
        "outputId": "205f1fcc-50c9-44b8-8562-59497bfb7748"
      },
      "execution_count": 12,
      "outputs": [
        {
          "output_type": "stream",
          "name": "stdout",
          "text": [
            "Epoch 1/10\n",
            "1875/1875 [==============================] - 45s 23ms/step - loss: 0.2301 - accuracy: 0.9306\n",
            "Epoch 2/10\n",
            "1875/1875 [==============================] - 46s 25ms/step - loss: 0.1014 - accuracy: 0.9701\n",
            "Epoch 3/10\n",
            "1875/1875 [==============================] - 44s 23ms/step - loss: 0.0745 - accuracy: 0.9773\n",
            "Epoch 4/10\n",
            "1875/1875 [==============================] - 45s 24ms/step - loss: 0.0588 - accuracy: 0.9819\n",
            "Epoch 5/10\n",
            "1875/1875 [==============================] - 45s 24ms/step - loss: 0.0504 - accuracy: 0.9837\n",
            "Epoch 6/10\n",
            "1875/1875 [==============================] - 46s 25ms/step - loss: 0.0435 - accuracy: 0.9861\n",
            "Epoch 7/10\n",
            "1875/1875 [==============================] - 44s 24ms/step - loss: 0.0401 - accuracy: 0.9875\n",
            "Epoch 8/10\n",
            "1875/1875 [==============================] - 45s 24ms/step - loss: 0.0333 - accuracy: 0.9891\n",
            "Epoch 9/10\n",
            "1875/1875 [==============================] - 46s 25ms/step - loss: 0.0309 - accuracy: 0.9900\n",
            "Epoch 10/10\n",
            "1875/1875 [==============================] - 44s 24ms/step - loss: 0.0273 - accuracy: 0.9910\n",
            "313/313 - 2s - loss: 0.0401 - accuracy: 0.9887 - 2s/epoch - 7ms/step\n"
          ]
        }
      ]
    },
    {
      "cell_type": "code",
      "source": [],
      "metadata": {
        "id": "jFdNvCIkVFt_"
      },
      "execution_count": null,
      "outputs": []
    }
  ]
}