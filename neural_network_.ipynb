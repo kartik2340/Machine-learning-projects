{
  "nbformat": 4,
  "nbformat_minor": 0,
  "metadata": {
    "colab": {
      "provenance": [],
      "authorship_tag": "ABX9TyMGOLy1PgOQbcObFkaSpCEF",
      "include_colab_link": true
    },
    "kernelspec": {
      "name": "python3",
      "display_name": "Python 3"
    },
    "language_info": {
      "name": "python"
    }
  },
  "cells": [
    {
      "cell_type": "markdown",
      "metadata": {
        "id": "view-in-github",
        "colab_type": "text"
      },
      "source": [
        "<a href=\"https://colab.research.google.com/github/kartik2340/Machine-learning-projects/blob/main/neural_network_.ipynb\" target=\"_parent\"><img src=\"https://colab.research.google.com/assets/colab-badge.svg\" alt=\"Open In Colab\"/></a>"
      ]
    },
    {
      "cell_type": "code",
      "execution_count": 1,
      "metadata": {
        "id": "amv7eeIapjk_"
      },
      "outputs": [],
      "source": [
        "import csv \n",
        "import tensorflow as tf "
      ]
    },
    {
      "cell_type": "code",
      "source": [
        "from sklearn.model_selection import  train_test_split"
      ],
      "metadata": {
        "id": "5JVOYjC-pwlz"
      },
      "execution_count": 2,
      "outputs": []
    },
    {
      "cell_type": "code",
      "source": [
        "from google.colab import drive\n",
        "drive.mount('/content/drive')"
      ],
      "metadata": {
        "colab": {
          "base_uri": "https://localhost:8080/"
        },
        "id": "glj3g7EuqRqm",
        "outputId": "6214adc4-ffe8-4048-f353-a35af1ca9537"
      },
      "execution_count": 3,
      "outputs": [
        {
          "output_type": "stream",
          "name": "stdout",
          "text": [
            "Mounted at /content/drive\n"
          ]
        }
      ]
    },
    {
      "cell_type": "code",
      "source": [
        "#reading the data in \n",
        "with open(\"BankNote_Authentication.csv\") as f :\n",
        "  reader = csv.reader(f)\n",
        "  next(reader)\n",
        "\n",
        "  data = []\n",
        "  for row in reader:\n",
        "    data.append({\n",
        "        \"evidence\": [float(cell) for cell in row [:4]],\n",
        "        \"label\" : 1 if row[4] == \"0\" else 0 \n",
        "    })\n"
      ],
      "metadata": {
        "id": "OGWZH3jVrPDd"
      },
      "execution_count": 15,
      "outputs": []
    },
    {
      "cell_type": "code",
      "source": [
        "# seprate data into training and testing groups \n",
        "evidence = [row[\"evidence\"] for row in data]\n",
        "labels = [row[\"label\"]for row in data ]\n",
        "X_training, X_testing, y_training, y_testing = train_test_split(\n",
        "    evidence, labels, test_size=0.4\n",
        ")"
      ],
      "metadata": {
        "id": "xKBh4IQYrlTS"
      },
      "execution_count": 16,
      "outputs": []
    },
    {
      "cell_type": "markdown",
      "source": [
        "CREATING A NEURLA NETWORK "
      ],
      "metadata": {
        "id": "-5k6_9nsu52B"
      }
    },
    {
      "cell_type": "code",
      "source": [
        "#neural network \n",
        "model = tf.keras.models.Sequential()"
      ],
      "metadata": {
        "id": "JJ2ram1uu5MP"
      },
      "execution_count": 17,
      "outputs": []
    },
    {
      "cell_type": "code",
      "source": [
        "# add a hidden layer with 8 units , with ReLU activation \n",
        "model.add(tf.keras.layers.Dense(1, activation=\"sigmoid\"))"
      ],
      "metadata": {
        "id": "CR5QDf8OsTOd"
      },
      "execution_count": 18,
      "outputs": []
    },
    {
      "cell_type": "code",
      "source": [
        "# train neural network \n",
        "model.compile(\n",
        "    optimizer=\"adam\",\n",
        "    loss= \"binary_crossentropy\",\n",
        "    metrics= [\"accuracy\"]\n",
        ")\n",
        "model.fit(X_training, y_training, epochs=20)\n",
        "# evaluate how well model performs \n",
        "model.evaluate(X_testing, y_testing, verbose=2)"
      ],
      "metadata": {
        "colab": {
          "base_uri": "https://localhost:8080/"
        },
        "id": "pDzUMhcxvzsu",
        "outputId": "e7f8471c-6ff9-4997-82cb-aab37467a31e"
      },
      "execution_count": 20,
      "outputs": [
        {
          "output_type": "stream",
          "name": "stdout",
          "text": [
            "Epoch 1/20\n",
            "26/26 [==============================] - 1s 2ms/step - loss: 2.1129 - accuracy: 0.3463\n",
            "Epoch 2/20\n",
            "26/26 [==============================] - 0s 2ms/step - loss: 1.9936 - accuracy: 0.3536\n",
            "Epoch 3/20\n",
            "26/26 [==============================] - 0s 2ms/step - loss: 1.8803 - accuracy: 0.3560\n",
            "Epoch 4/20\n",
            "26/26 [==============================] - 0s 2ms/step - loss: 1.7749 - accuracy: 0.3584\n",
            "Epoch 5/20\n",
            "26/26 [==============================] - 0s 2ms/step - loss: 1.6752 - accuracy: 0.3548\n",
            "Epoch 6/20\n",
            "26/26 [==============================] - 0s 2ms/step - loss: 1.5845 - accuracy: 0.3670\n",
            "Epoch 7/20\n",
            "26/26 [==============================] - 0s 2ms/step - loss: 1.5017 - accuracy: 0.3840\n",
            "Epoch 8/20\n",
            "26/26 [==============================] - 0s 2ms/step - loss: 1.4243 - accuracy: 0.3998\n",
            "Epoch 9/20\n",
            "26/26 [==============================] - 0s 2ms/step - loss: 1.3553 - accuracy: 0.4204\n",
            "Epoch 10/20\n",
            "26/26 [==============================] - 0s 2ms/step - loss: 1.2930 - accuracy: 0.4411\n",
            "Epoch 11/20\n",
            "26/26 [==============================] - 0s 2ms/step - loss: 1.2366 - accuracy: 0.4557\n",
            "Epoch 12/20\n",
            "26/26 [==============================] - 0s 2ms/step - loss: 1.1852 - accuracy: 0.4787\n",
            "Epoch 13/20\n",
            "26/26 [==============================] - 0s 2ms/step - loss: 1.1392 - accuracy: 0.4957\n",
            "Epoch 14/20\n",
            "26/26 [==============================] - 0s 2ms/step - loss: 1.0961 - accuracy: 0.5152\n",
            "Epoch 15/20\n",
            "26/26 [==============================] - 0s 2ms/step - loss: 1.0567 - accuracy: 0.5371\n",
            "Epoch 16/20\n",
            "26/26 [==============================] - 0s 2ms/step - loss: 1.0192 - accuracy: 0.5431\n",
            "Epoch 17/20\n",
            "26/26 [==============================] - 0s 2ms/step - loss: 0.9840 - accuracy: 0.5565\n",
            "Epoch 18/20\n",
            "26/26 [==============================] - 0s 2ms/step - loss: 0.9511 - accuracy: 0.5638\n",
            "Epoch 19/20\n",
            "26/26 [==============================] - 0s 9ms/step - loss: 0.9187 - accuracy: 0.5735\n",
            "Epoch 20/20\n",
            "26/26 [==============================] - 0s 8ms/step - loss: 0.8878 - accuracy: 0.5796\n",
            "18/18 - 0s - loss: 0.9300 - accuracy: 0.5683 - 367ms/epoch - 20ms/step\n"
          ]
        },
        {
          "output_type": "execute_result",
          "data": {
            "text/plain": [
              "[0.9299722909927368, 0.568306028842926]"
            ]
          },
          "metadata": {},
          "execution_count": 20
        }
      ]
    },
    {
      "cell_type": "code",
      "source": [],
      "metadata": {
        "id": "N0HHwUhg06qN"
      },
      "execution_count": null,
      "outputs": []
    }
  ]
}