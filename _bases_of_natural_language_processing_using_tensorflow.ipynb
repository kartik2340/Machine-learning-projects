{
  "nbformat": 4,
  "nbformat_minor": 0,
  "metadata": {
    "colab": {
      "provenance": [],
      "toc_visible": true,
      "authorship_tag": "ABX9TyN1d/uo/njmNTGa1aM4m9XP",
      "include_colab_link": true
    },
    "kernelspec": {
      "name": "python3",
      "display_name": "Python 3"
    },
    "language_info": {
      "name": "python"
    }
  },
  "cells": [
    {
      "cell_type": "markdown",
      "metadata": {
        "id": "view-in-github",
        "colab_type": "text"
      },
      "source": [
        "<a href=\"https://colab.research.google.com/github/kartik2340/Machine-learning-projects/blob/main/_bases_of_natural_language_processing_using_tensorflow.ipynb\" target=\"_parent\"><img src=\"https://colab.research.google.com/assets/colab-badge.svg\" alt=\"Open In Colab\"/></a>"
      ]
    },
    {
      "cell_type": "code",
      "execution_count": null,
      "metadata": {
        "id": "wZ4R1LL6UqXK"
      },
      "outputs": [],
      "source": [
        "import tensorflow as tf\n",
        "from tensorflow import keras\n",
        "from tensorflow.keras.preprocessing.text import Tokenizer# getting tokenizer API's from TensorFlow keras\n",
        "from tensorflow.keras.preprocessing.sequence import pad_sequences # use to pad the sequences  "
      ]
    },
    {
      "cell_type": "code",
      "source": [
        "sentences = [\n",
        "    'I love my car',\n",
        "    'I love my bike',\n",
        "    'you love! my! car! and bike! ',\n",
        "    'Do you think my car is amazing ?'#representing our sentences as Python array\n",
        "]"
      ],
      "metadata": {
        "id": "H0ZwcJ4xY2E5"
      },
      "execution_count": null,
      "outputs": []
    },
    {
      "cell_type": "code",
      "source": [
        "from tensorflow.python.ops.array_ops import sequence_mask\n",
        "tokenizer = Tokenizer(num_words=100,oov_token=\"<oov>\")#create an instance of a tokenizer objects \n",
        "tokenizer.fit_on_texts(sentences)# now by this function words will tokenizes according to it values   \n",
        "word_index = tokenizer.word_index#word indexing of all words in sentence \n",
        "sequences = tokenizer.texts_to_sequences(sentences)#creates sequences of tokens representing each sentence\n",
        "padeed = pad_sequences(sequences,padding= 'post',maxlen=7)# as our longest sentence had seven words in it, so when we passs in corpus to pad senquence,\n",
        "print(word_index)                     # here padding  = 'post means the zeroes will go bach and the maxlen= 7 is the set of numb. till where it had to pad \n",
        "print(sequences)\n",
        "print (padeed)#it measured thah and ensured that all of the sentences would have equally-sized sequences by padding them "
      ],
      "metadata": {
        "colab": {
          "base_uri": "https://localhost:8080/"
        },
        "id": "ClHzQ496ZUsc",
        "outputId": "329da16c-5346-4250-ab99-70755b632421"
      },
      "execution_count": null,
      "outputs": [
        {
          "output_type": "stream",
          "name": "stdout",
          "text": [
            "{'<oov>': 1, 'my': 2, 'love': 3, 'car': 4, 'i': 5, 'bike': 6, 'you': 7, 'and': 8, 'do': 9, 'think': 10, 'is': 11, 'amazing': 12}\n",
            "[[5, 3, 2, 4], [5, 3, 2, 6], [7, 3, 2, 4, 8, 6], [9, 7, 10, 2, 4, 11, 12]]\n",
            "[[ 5  3  2  4  0  0  0]\n",
            " [ 5  3  2  6  0  0  0]\n",
            " [ 7  3  2  4  8  6  0]\n",
            " [ 9  7 10  2  4 11 12]]\n"
          ]
        }
      ]
    },
    {
      "cell_type": "code",
      "source": [
        "  test_data = [\n",
        "      'i really love my car',\n",
        "      'my friends also likes my car'\n",
        "  ]"
      ],
      "metadata": {
        "id": "AiXED202Zv_Z"
      },
      "execution_count": null,
      "outputs": []
    },
    {
      "cell_type": "code",
      "source": [
        "test_seq = tokenizer.texts_to_sequences(test_data)\n",
        "print(test_seq)"
      ],
      "metadata": {
        "id": "lGcYb5LgcqD7",
        "colab": {
          "base_uri": "https://localhost:8080/"
        },
        "outputId": "887db599-8224-4c33-fec9-9c26ad5b0811"
      },
      "execution_count": null,
      "outputs": [
        {
          "output_type": "stream",
          "name": "stdout",
          "text": [
            "[[5, 1, 3, 2, 4], [2, 1, 1, 1, 2, 4]]\n"
          ]
        }
      ]
    },
    {
      "cell_type": "code",
      "source": [
        "  "
      ],
      "metadata": {
        "id": "wov1tlzFfkxL"
      },
      "execution_count": null,
      "outputs": []
    }
  ]
}